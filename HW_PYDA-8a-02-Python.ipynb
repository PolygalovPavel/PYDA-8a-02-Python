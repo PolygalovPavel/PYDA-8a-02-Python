{
 "cells": [
  {
   "cell_type": "markdown",
   "metadata": {
    "scrolled": true
   },
   "source": [
    "**Задание 1.** Даны 2 строки: *long_phrase* и *short_phrase*. Напишите код, который проверяет действительно ли длинная фраза *long_phrase* длиннее короткой *short_phrase*. И выводит *True* или *False* в зависимости от результата сравнения."
   ]
  },
  {
   "cell_type": "code",
   "execution_count": null,
   "metadata": {},
   "outputs": [],
   "source": [
    "long_phrase = 'Насколько проще было бы писать программы, если бы не заказчики'\n",
    "short_phrase = '640Кб должно хватить для любых задач. Билл Гейтс (по легенде)'"
   ]
  },
  {
   "cell_type": "code",
   "execution_count": null,
   "metadata": {},
   "outputs": [],
   "source": [
    "len(long_phrase) > len(short_phrase)"
   ]
  },
  {
   "cell_type": "markdown",
   "metadata": {},
   "source": [
    "**Задание 2.** Дано значение объема файла в байтах (в мегабайте 2^20 байт). Напишите перевод этого значения в мегабайты в формате: \"*Объем файла равен 213.68Mb*\"."
   ]
  },
  {
   "cell_type": "code",
   "execution_count": 32,
   "metadata": {},
   "outputs": [
    {
     "name": "stdout",
     "output_type": "stream",
     "text": [
      "Введите значение объема файла в байтах: 222222222\n"
     ]
    },
    {
     "data": {
      "text/plain": [
       "'Объем файла равен 211.93Mb'"
      ]
     },
     "execution_count": 32,
     "metadata": {},
     "output_type": "execute_result"
    }
   ],
   "source": [
    "byte = int(input('Введите значение объема файла в байтах: '))\n",
    "'Объем файла равен '+str(\"{:.2f}\".format(byte/2**20))+'Mb'"
   ]
  },
  {
   "cell_type": "markdown",
   "metadata": {},
   "source": [
    "**Задание 3.** Разработать приложение для определения знака зодиака по дате рождения.\n",
    "\n",
    "Пример: \n",
    "\n",
    "Введите месяц: март \n",
    "\n",
    "Введите число: 6 \n",
    "\n",
    "Вывод: Рыбы"
   ]
  },
  {
   "cell_type": "code",
   "execution_count": null,
   "metadata": {},
   "outputs": [],
   "source": [
    "tmonth = 0\n",
    "tday = 0\n",
    "text_month = 'Введите месяц: '\n",
    "text_day = 'Введите число: '\n",
    "zodiac = ''\n",
    "while tmonth == 0:\n",
    "    month = input(text_month)\n",
    "    if month.lower() in ('январь', 'февраль', 'март','апрель','май','июнь','июль','август','сентябрь','октябрь','ноябрь','декабрь'):\n",
    "        month = month.lower()\n",
    "        tmonth = 1\n",
    "    else:\n",
    "        text_month = 'Месяц введен не верное. Введите наименование месяца правильно: '\n",
    "while tday == 0:\n",
    "    day = input(text_day)\n",
    "    if day.isdigit():\n",
    "        day = int(day)\n",
    "        if day > 0 and ((month in ('январь', 'март', 'май','июль','август','октябрь','декабрь') and day <=31) or (month in ('февраль') and day <=29) or (month in ('апрель','июнь','сентябрь','ноябрь') and day <=30)):\n",
    "            tday = 1\n",
    "        else:\n",
    "            text_day = 'Указана не верная дата месяца. Введите правильное число: '\n",
    "    else:\n",
    "        text_day = 'Введено не число. Введите правильное число: '\n",
    "if (month == 'марта' and day >= 21) or (month == 'апрель' and day <= 20):\n",
    "    zodiac = 'Овен'\n",
    "elif (month == 'апрель' and day >= 21) or (month == 'май' and day <= 21):\n",
    "    zodiac = 'Телец'\n",
    "elif (month == 'май' and day >= 22) or (month == 'июнь' and day <= 21):\n",
    "    zodiac = 'Близнецы'\n",
    "elif (month == 'июнь' and day >= 22) or (month == 'июль' and day <= 22):\n",
    "    zodiac = 'Рак'\n",
    "elif (month == 'июль' and day >= 23) or (month == 'август' and day <= 23):\n",
    "    zodiac = 'Лев'\n",
    "elif (month == 'август' and day >= 24) or (month == 'сентябрь' and day <= 22):\n",
    "    zodiac = 'Дева'        \n",
    "elif (month == 'сентябрь' and day >= 23) or (month == 'октябрь' and day <= 22):\n",
    "    zodiac = 'Весы'\n",
    "elif (month == 'октябрь' and day >= 23) or (month == 'ноябрь' and day <= 22):\n",
    "    zodiac = 'Скорпион'        \n",
    "elif (month == 'ноябрь' and day >= 22) or (month == 'декабрь' and day <= 21):\n",
    "    zodiac = 'Стрелец'\n",
    "elif (month == 'декабрь' and day >= 22) or (month == 'январь' and day <= 20):\n",
    "    zodiac = 'Козерог'\n",
    "elif (month == 'январь' and day >= 21) or (month == 'февраль' and day <= 19):\n",
    "    zodiac = 'Водолей'\n",
    "elif (month == 'февраль' and day >= 20) or (month == 'март' and day <= 20):\n",
    "    zodiac = 'Рыбы'\n",
    "else:\n",
    "    zodiac = 'Что-то пошло не так((('\n",
    "print('Вывод: '+zodiac)"
   ]
  },
  {
   "cell_type": "markdown",
   "metadata": {},
   "source": [
    "**Задание 4.** Нужно разработать приложение для финансового планирования. Приложение учитывает сколько уходит на ипотеку, \"на жизнь\" и сколько нужно отложить на пенсию. Пользователь вводит:\n",
    "- заработанную плату в месяц.\n",
    "- сколько процентов от ЗП уходит на ипотеку.\n",
    "- сколько процентов от ЗП уходит \"на жизнь\".\n",
    "- сколько раз приходит премия в год.\n",
    "\n",
    "Остальная часть заработанной платы откладывается на пенсию.\n",
    "\n",
    "Также пользователю приходит премия в размере зарплаты, от которой половина уходит на отпуск, а вторая половина откладывается.\n",
    "\n",
    "Программа должна учитывать сколько премий было в год.\n",
    "\n",
    "Нужно вывести сколько денег тратит пользователь на ипотеку и сколько он накопит за год.\n",
    "\n",
    "Пример:\n",
    "\n",
    "Введите заработанную плату в месяц: 100000\n",
    "\n",
    "Введите сколько процентов уходит на ипотеку: 30\n",
    "\n",
    "Введите сколько процентов уходит на жизнь: 50\n",
    "\n",
    "Введите количество премий за год: 2\n",
    "\n",
    "Вывод: На ипотеку было потрачено: 360000 рублей Было накоплено: 340000 рублей"
   ]
  },
  {
   "cell_type": "code",
   "execution_count": 15,
   "metadata": {},
   "outputs": [
    {
     "name": "stdout",
     "output_type": "stream",
     "text": [
      "Введите заработанную плату в месяц: 100000\n",
      "Введите сколько процентов уходит на ипотеку: 50\n",
      "Введите сколько процентов уходит на жизнь: 70\n",
      "Введите количество премий за год: 2\n",
      "Возможно вы ввели не верные проценты, так как значение накоплений отрицательное (-140000)\n"
     ]
    }
   ],
   "source": [
    "wages = ''\n",
    "mortgage = ''\n",
    "percent_life = ''\n",
    "count_reward = ''\n",
    "final_mortgage = 0\n",
    "final_capital = 0\n",
    "text_wages = 'Введите заработанную плату в месяц: '\n",
    "text_mortgage = 'Введите сколько процентов уходит на ипотеку: '\n",
    "text_percent_life = 'Введите сколько процентов уходит на жизнь: '\n",
    "text_count_reward = 'Введите количество премий за год: '\n",
    "while wages == '':\n",
    "    wages = input(text_wages)\n",
    "    if wages.isdigit():\n",
    "        if int(wages) > 0:\n",
    "            wages = int(wages)\n",
    "        else:\n",
    "            wages = ''\n",
    "            text_wages = 'Введено значение равное 0. Введите заработанную плату в месяц: '\n",
    "    else:\n",
    "        wages = ''\n",
    "        text_wages = 'Введено не положительное число. Введите заработанную плату в месяц: '\n",
    "while mortgage == '':\n",
    "    mortgage = input(text_mortgage)\n",
    "    if mortgage.isdigit():\n",
    "        if int(mortgage) <= 100:\n",
    "            mortgage = wages*int(mortgage)/100\n",
    "        else:\n",
    "            mortgage = ''\n",
    "            text_mortgage = 'Введено значение более 100 %. Введите сколько процентов уходит на ипотеку: '\n",
    "    else:\n",
    "        mortgage = ''\n",
    "        text_mortgage = 'Введено не положительное число. Введите сколько процентов уходит на ипотеку: '\n",
    "while percent_life == '':\n",
    "    percent_life = input(text_percent_life)\n",
    "    if percent_life.isdigit():\n",
    "        if int(percent_life) <= 100:\n",
    "            percent_life = wages*int(percent_life)/100\n",
    "        else:\n",
    "            percent_life = ''\n",
    "            text_percent_life = 'Введено значение более 100 %. Введите сколько процентов уходит на жизнь: '\n",
    "    else:\n",
    "        percent_life = ''\n",
    "        text_percent_life = 'Введено не положительное число. Введите сколько процентов уходит на жизнь: '\n",
    "while count_reward == '':\n",
    "    count_reward = input(text_count_reward)\n",
    "    if count_reward.isdigit():\n",
    "        count_reward = wages*int(count_reward)/2\n",
    "    else:\n",
    "        count_reward = ''\n",
    "        text_count_reward = 'Введено не положительное число. Введите количество премий за год: '\n",
    "final_mortgage = mortgage * 12\n",
    "final_capital = (wages * 12 + count_reward) - final_mortgage - percent_life * 12 \n",
    "if final_capital >= 0:\n",
    "    print('Вывод: На ипотеку было потрачено: '+str(int(final_mortgage))+' рублей. '+'Было накоплено: '+str(int(final_capital))+' рублей')\n",
    "else:\n",
    "    print('Возможно вы ввели не верные значения, так как накопления полуаются отрицательные ('+str(int(final_capital))+')')"
   ]
  },
  {
   "cell_type": "code",
   "execution_count": null,
   "metadata": {},
   "outputs": [],
   "source": []
  }
 ],
 "metadata": {
  "kernelspec": {
   "display_name": "Python 3",
   "language": "python",
   "name": "python3"
  },
  "language_info": {
   "codemirror_mode": {
    "name": "ipython",
    "version": 3
   },
   "file_extension": ".py",
   "mimetype": "text/x-python",
   "name": "python",
   "nbconvert_exporter": "python",
   "pygments_lexer": "ipython3",
   "version": "3.7.6"
  }
 },
 "nbformat": 4,
 "nbformat_minor": 4
}
